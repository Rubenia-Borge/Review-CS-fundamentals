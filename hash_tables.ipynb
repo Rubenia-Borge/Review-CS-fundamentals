{
 "cells": [
  {
   "cell_type": "code",
   "execution_count": null,
   "metadata": {},
   "outputs": [],
   "source": []
  },
  {
   "cell_type": "code",
   "execution_count": 22,
   "metadata": {},
   "outputs": [
    {
     "name": "stdout",
     "output_type": "stream",
     "text": [
      "dict['Name']:  Alejandro\n",
      "dict['Age']:  8\n",
      "dict['Class']:  Second\n",
      "\n",
      "-\n",
      "dict['Name']:  Max\n",
      "dict['Age']:  6\n",
      "dict['Class']:  First\n",
      "\n",
      "-\n",
      "dict['Name']:  Eli\n",
      "dict['Age']:  5\n",
      "dict['Class']:  Second\n",
      "\n",
      "-\n"
     ]
    }
   ],
   "source": [
    "# declaring dictionaries\n",
    "a = dict = {'Name': 'Alejandro', 'Age': 8, 'Class': 'Second'}\n",
    "b = dict = {'Name': 'Max', 'Age': 6,'Class': 'First'}\n",
    "c = dict ={'Name':'Eli', 'Age': 5,'Class':'Second'}\n",
    "\n",
    "# accessing dictionaries with keys\n",
    "print (\"dict['Name']: \", a['Name'])\n",
    "print (\"dict['Age']: \", a['Age'])\n",
    "print(\"dict['Class']: \", a['Class'])\n",
    "print(\"\\n-\")\n",
    "\n",
    "print(\"dict['Name']: \", b['Name'])\n",
    "print (\"dict['Age']: \", b['Age'])\n",
    "print(\"dict['Class']: \", b['Class'])\n",
    "print(\"\\n-\")\n",
    "\n",
    "print(\"dict['Name']: \", c['Name'])\n",
    "print(\"dict['Age']: \", c['Age'])\n",
    "print(\"dict['Class']: \", c['Class'])\n",
    "print(\"\\n-\")"
   ]
  },
  {
   "cell_type": "code",
   "execution_count": 36,
   "metadata": {},
   "outputs": [
    {
     "name": "stdout",
     "output_type": "stream",
     "text": [
      "0 -\n",
      "1 -> -\n",
      "2 -> -\n",
      "3 -> -\n",
      "4 -> -\n",
      "5 -> -\n",
      "6 -> -\n",
      "7 -> -\n",
      "8 -> -\n",
      "9 -\n"
     ]
    }
   ],
   "source": [
    "def print_hash_table(my_hash_table):\n",
    "    for i in range(len(my_hash_table)):\n",
    "        print(i, end = \" \")\n",
    "        for j in my_hash_table[i]:\n",
    "            print(\"->\", end = \" \")\n",
    "            \n",
    "        print('-')\n",
    "\n",
    "# hash table as nested list\n",
    "my_hash_table = [[] for _ in range(10)]\n",
    "\n",
    "# hashing function\n",
    "def my_hashing_function(keyvalue):\n",
    "    return keyvalue%len(my_hash_table)\n",
    "\n",
    "# add values to the hash table\n",
    "def my_insert_function(my_hash_table,keyvalue,value):\n",
    "    my_hash_key = my_hashing_function(keyvalue)\n",
    "    my_hash_table[my_hash_key].append(value)\n",
    "\n",
    "\n",
    "my_insert_function(my_hash_table,1,'A')\n",
    "my_insert_function(my_hash_table,2,'B')\n",
    "my_insert_function(my_hash_table,3,'C')\n",
    "my_insert_function(my_hash_table,4,'D')\n",
    "my_insert_function(my_hash_table,5,'E')\n",
    "my_insert_function(my_hash_table,6,'F')\n",
    "my_insert_function(my_hash_table,7,'G')\n",
    "my_insert_function(my_hash_table,8,'H')\n",
    " \n",
    "print_hash_table(my_hash_table)"
   ]
  },
  {
   "cell_type": "code",
   "execution_count": null,
   "metadata": {},
   "outputs": [],
   "source": [
    "# Function to display hashtable \n",
    "def display_hash(hashTable): \n",
    "\t\n",
    "\tfor i in range(len(hashTable)): \n",
    "\t\tprint(i, end = \" \") \n",
    "\t\t\n",
    "\t\tfor j in hashTable[i]: \n",
    "\t\t\tprint(\"-->\", end = \" \") \n",
    "\t\t\tprint(j, end = \" \") \n",
    "\t\t\t\n",
    "\t\tprint() \n",
    "\n",
    "# Creating Hashtable as \n",
    "# a nested list. \n",
    "HashTable = [[] for _ in range(10)] \n",
    "\n",
    "# Hashing Function to return \n",
    "# key for every value. \n",
    "def Hashing(keyvalue): \n",
    "\treturn keyvalue % len(HashTable) \n",
    "\n",
    "\n",
    "# Insert Function to add \n",
    "# values to the hash table \n",
    "def insert(Hashtable, keyvalue, value): \n",
    "\t\n",
    "\thash_key = Hashing(keyvalue) \n",
    "\tHashtable[hash_key].append(value) \n",
    "\n",
    "# Driver Code \n",
    "insert(HashTable, 10, 'Allahabad') \n",
    "insert(HashTable, 25, 'Mumbai') \n",
    "insert(HashTable, 20, 'Mathura') \n",
    "insert(HashTable, 9, 'Delhi') \n",
    "insert(HashTable, 21, 'Punjab') \n",
    "insert(HashTable, 21, 'Noida') \n",
    "\n",
    "display_hash (HashTable) \n"
   ]
  }
 ],
 "metadata": {
  "kernelspec": {
   "display_name": "Python 3",
   "language": "python",
   "name": "python3"
  },
  "language_info": {
   "codemirror_mode": {
    "name": "ipython",
    "version": 3
   },
   "file_extension": ".py",
   "mimetype": "text/x-python",
   "name": "python",
   "nbconvert_exporter": "python",
   "pygments_lexer": "ipython3",
   "version": "3.8.3"
  }
 },
 "nbformat": 4,
 "nbformat_minor": 4
}
